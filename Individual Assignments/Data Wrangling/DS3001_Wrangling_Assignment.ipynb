{
  "cells": [
    {
      "cell_type": "markdown",
      "id": "13ad028b-72b7-43ed-aa78-96fd4e518040",
      "metadata": {
        "id": "13ad028b-72b7-43ed-aa78-96fd4e518040"
      },
      "source": [
        "# Assignment: Data Wrangling\n",
        "### `! git clone https://github.com/ds4e/wrangling`\n",
        "### Do Q1 and Q2, and either Q3 or Q4, for a total of 3 questions."
      ]
    },
    {
      "cell_type": "markdown",
      "id": "da879ea7-8aac-48a3-b6c2-daea56d2e072",
      "metadata": {
        "id": "da879ea7-8aac-48a3-b6c2-daea56d2e072"
      },
      "source": [
        "**Q1.** This question provides some practice cleaning variables which have common problems.\n",
        "1. Numeric variable: For `./data/airbnb_hw.csv`, clean the `Price` variable as well as you can, and explain the choices you make. How many missing values do you end up with? (Hint: What happens to the formatting when a price goes over 999 dollars, say from 675 to 1,112?)\n",
        "\n",
        "\n",
        "2. Categorical variable: For the Minnesota police use of for data, `./data/mn_police_use_of_force.csv`, clean the `subject_injury` variable, handling the NA's; this gives a value `Yes` when a person was injured by police, and `No` when no injury occurred. What proportion of the values are missing? Is this a concern? Cross-tabulate your cleaned `subject_injury` variable with the `force_type` variable. Are there any patterns regarding when the data are missing?\n",
        "3. Dummy variable: For the pretrial data covered in the lecture, clean the `WhetherDefendantWasReleasedPretrial` variable as well as you can, and, in particular, replace missing values with `np.nan`.\n",
        "4. Missing values, not at random: For the pretrial data covered in the lecture, clean the `ImposedSentenceAllChargeInContactEvent` variable as well as you can, and explain the choices you make. (Hint: Look at the `SentenceTypeAllChargesAtConvictionInContactEvent` variable.)"
      ]
    },
    {
      "cell_type": "code",
      "source": [
        "# Question 1\n",
        "\n",
        "import pandas as pd\n",
        "\n",
        "nv = pd.read_csv('airbnb_hw.csv')\n",
        "nv['Price'] = nv['Price'].replace({'\\$':'', ',':''}) # Removes $ and , to convert each value into an integer\n",
        "nv['price_nan'] = nv[\"Price\"].isnull()\n",
        "\n",
        "nv['Price'].head()\n",
        "\n",
        "count = nv['price_nan'].value_counts()\n",
        "print(count)\n"
      ],
      "metadata": {
        "colab": {
          "base_uri": "https://localhost:8080/"
        },
        "id": "cMqfrif70Gya",
        "outputId": "5fdee024-55fb-40cd-d08a-aec02d3163ac"
      },
      "id": "cMqfrif70Gya",
      "execution_count": 33,
      "outputs": [
        {
          "output_type": "stream",
          "name": "stdout",
          "text": [
            "price_nan\n",
            "False    30478\n",
            "Name: count, dtype: int64\n"
          ]
        }
      ]
    },
    {
      "cell_type": "code",
      "source": [
        "# Question 2\n",
        "\n",
        "import pandas as pd\n",
        "\n",
        "cv = pd.read_csv('mn_police_use_of_force.csv')\n",
        "cv['subject_injury'] = cv['subject_injury'].str.lower().map({'yes': 'Yes', 'no': 'No', 'y': 'Yes', 'n': 'No'}).fillna('Unknown')\n",
        "\n",
        "missing_injury = cv['subject_injury'].isnull().sum()\n",
        "print(missing_injury)\n",
        "\n",
        "cross_tab = pd.crosstab(cv['subject_injury'], cv['force_type'])\n",
        "print(cross_tab)\n"
      ],
      "metadata": {
        "colab": {
          "base_uri": "https://localhost:8080/"
        },
        "id": "pTFDjMj33zfo",
        "outputId": "25b9ef41-9f2b-4d16-a788-5e7e271d4ea9"
      },
      "id": "pTFDjMj33zfo",
      "execution_count": 34,
      "outputs": [
        {
          "output_type": "stream",
          "name": "stdout",
          "text": [
            "0\n",
            "force_type      Baton  Bodily Force  Chemical Irritant  Firearm  \\\n",
            "subject_injury                                                    \n",
            "No                  0          1093                131        2   \n",
            "Unknown             2          7051               1421        0   \n",
            "Yes                 2          1286                 41        0   \n",
            "\n",
            "force_type      Gun Point Display  Improvised Weapon  Less Lethal  \\\n",
            "subject_injury                                                      \n",
            "No                             33                 34            0   \n",
            "Unknown                        27                 74           87   \n",
            "Yes                            44                 40            0   \n",
            "\n",
            "force_type      Less Lethal Projectile  Maximal Restraint Technique  \\\n",
            "subject_injury                                                        \n",
            "No                                   1                            0   \n",
            "Unknown                              0                          170   \n",
            "Yes                                  2                            0   \n",
            "\n",
            "force_type      Police K9 Bite  Taser  \n",
            "subject_injury                         \n",
            "No                           2    150  \n",
            "Unknown                     31    985  \n",
            "Yes                         44    172  \n"
          ]
        }
      ]
    },
    {
      "cell_type": "code",
      "source": [
        "# Question 3\n",
        "\n",
        "import pandas as pd\n",
        "\n",
        "url = 'http://www.vcsc.virginia.gov/pretrialdataproject/October%202017%20Cohort_Virginia%20Pretrial%20Data%20Project_Deidentified%20FINAL%20Update_10272021.csv'\n",
        "dv = pd.read_csv(url, low_memory = False)\n",
        "\n",
        "dv['WhetherDefendantWasReleasedPretrial'] = dv['WhetherDefendantWasReleasedPretrial'].map({True: 'Yes', False: 'No'})\n",
        "dv['WhetherDefendantWasReleasedPretrial'] = dv['WhetherDefendantWasReleasedPretrial'].fillna('Unknown')\n",
        "\n",
        "missing_released = dv['WhetherDefendantWasReleasedPretrial'].isna().sum()\n",
        "print(f'Missing values in WhetherDefendantWasReleasedPretrial: {missing_released}')\n"
      ],
      "metadata": {
        "colab": {
          "base_uri": "https://localhost:8080/"
        },
        "id": "gfJQWSsi7qkX",
        "outputId": "92bb0dd0-584b-4b2e-f7c9-a63f456eebfc"
      },
      "id": "gfJQWSsi7qkX",
      "execution_count": 37,
      "outputs": [
        {
          "output_type": "stream",
          "name": "stdout",
          "text": [
            "Missing values in WhetherDefendantWasReleasedPretrial: 0\n"
          ]
        }
      ]
    },
    {
      "cell_type": "code",
      "source": [
        "# Question 4\n",
        "\n",
        "import pandas as pd\n",
        "\n",
        "url = 'http://www.vcsc.virginia.gov/pretrialdataproject/October%202017%20Cohort_Virginia%20Pretrial%20Data%20Project_Deidentified%20FINAL%20Update_10272021.csv'\n",
        "mv = pd.read_csv(url, low_memory=False)\n",
        "\n",
        "missing_sentence = mv['ImposedSentenceAllChargeInContactEvent'].isna().sum()\n",
        "missing_sentence_type = mv['SentenceTypeAllChargesAtConvictionInContactEvent'].isna().sum()\n",
        "\n",
        "print(f'Missing values in ImposedSentenceAllChargeInContactEvent: {missing_sentence}')\n",
        "print(f'Missing values in SentenceTypeAllChargesAtConvictionInContactEvent: {missing_sentence_type}')\n",
        "\n",
        "mv['ImposedSentenceAllChargeInContactEvent'] = mv.groupby('SentenceTypeAllChargesAtConvictionInContactEvent')['ImposedSentenceAllChargeInContactEvent'].transform(lambda x: x.fillna(x.mode()[0] if not x.mode().empty else np.nan))\n",
        "\n",
        "mv['ImposedSentenceAllChargeInContactEvent'].head()\n"
      ],
      "metadata": {
        "colab": {
          "base_uri": "https://localhost:8080/",
          "height": 275
        },
        "id": "lA-oon6L7qwL",
        "outputId": "49a01271-8f76-4082-893b-e652449f036f"
      },
      "id": "lA-oon6L7qwL",
      "execution_count": null,
      "outputs": [
        {
          "output_type": "stream",
          "name": "stdout",
          "text": [
            "Missing values in ImposedSentenceAllChargeInContactEvent: 0\n",
            "Missing values in SentenceTypeAllChargesAtConvictionInContactEvent: 0\n"
          ]
        },
        {
          "output_type": "execute_result",
          "data": {
            "text/plain": [
              "0                    \n",
              "1                  60\n",
              "2                  12\n",
              "3    .985626283367556\n",
              "4                    \n",
              "Name: ImposedSentenceAllChargeInContactEvent, dtype: object"
            ],
            "text/html": [
              "<div>\n",
              "<style scoped>\n",
              "    .dataframe tbody tr th:only-of-type {\n",
              "        vertical-align: middle;\n",
              "    }\n",
              "\n",
              "    .dataframe tbody tr th {\n",
              "        vertical-align: top;\n",
              "    }\n",
              "\n",
              "    .dataframe thead th {\n",
              "        text-align: right;\n",
              "    }\n",
              "</style>\n",
              "<table border=\"1\" class=\"dataframe\">\n",
              "  <thead>\n",
              "    <tr style=\"text-align: right;\">\n",
              "      <th></th>\n",
              "      <th>ImposedSentenceAllChargeInContactEvent</th>\n",
              "    </tr>\n",
              "  </thead>\n",
              "  <tbody>\n",
              "    <tr>\n",
              "      <th>0</th>\n",
              "      <td></td>\n",
              "    </tr>\n",
              "    <tr>\n",
              "      <th>1</th>\n",
              "      <td>60</td>\n",
              "    </tr>\n",
              "    <tr>\n",
              "      <th>2</th>\n",
              "      <td>12</td>\n",
              "    </tr>\n",
              "    <tr>\n",
              "      <th>3</th>\n",
              "      <td>.985626283367556</td>\n",
              "    </tr>\n",
              "    <tr>\n",
              "      <th>4</th>\n",
              "      <td></td>\n",
              "    </tr>\n",
              "  </tbody>\n",
              "</table>\n",
              "</div><br><label><b>dtype:</b> object</label>"
            ]
          },
          "metadata": {},
          "execution_count": 30
        }
      ]
    },
    {
      "cell_type": "markdown",
      "id": "5a60a44e",
      "metadata": {
        "id": "5a60a44e"
      },
      "source": [
        "**Q2.** Go to https://sharkattackfile.net/ and download their dataset on shark attacks.\n",
        "\n",
        "1. Open the shark attack file using Pandas. It is probably not a csv file, so `read_csv` won't work.\n",
        "2. Drop any columns that do not contain data.\n",
        "3. Clean the year variable. Describe the range of values you see. Filter the rows to focus on attacks since 1940. Are attacks increasing, decreasing, or remaining constant over time?\n",
        "4. Clean the Age variable and make a histogram of the ages of the victims.\n",
        "5. What proportion of victims are male?\n",
        "6. Clean the `Type` variable so it only takes three values: Provoked and Unprovoked and Unknown. What proportion of attacks are unprovoked?\n",
        "7. Clean the `Fatal Y/N` variable so it only takes three values: Y, N, and Unknown.\n",
        "8. Are sharks more likely to launch unprovoked attacks on men or women? Is the attack more or less likely to be fatal when the attack is provoked or unprovoked? Is it more or less likely to be fatal when the victim is male or female? How do you feel about sharks?\n",
        "9. What proportion of attacks appear to be by white sharks? (Hint: `str.split()` makes a vector of text values into a list of lists, split by spaces.)"
      ]
    },
    {
      "cell_type": "code",
      "source": [
        "import pandas as pd\n",
        "import matplotlib.pyplot as plt\n",
        "\n",
        "sa = pd.read_excel('GSAF5.xls')\n",
        "sa.dropna(axis = 1, how = 'all')\n",
        "\n",
        "sa['Year'] = pd.to_numeric(sa['Year'], errors = 'coerce')\n",
        "\n",
        "# Attacks are increasing\n",
        "\n",
        "att_per_year = sa.groupby('Year').size()\n",
        "att_per_year.plot(kind = 'line')\n",
        "plt.title('Shark Attacks per Year')\n",
        "plt.xlabel('Year')\n",
        "plt.ylabel('Number of Attacks')\n",
        "plt.show()\n",
        "\n",
        "# Victim ages\n",
        "\n",
        "sa['Age'] = pd.to_numeric(sa['Age'], errors = 'coerce')\n",
        "\n",
        "sa['Age'].hist()\n",
        "plt.title('Histogram of Victim Ages')\n",
        "plt.xlabel('Age')\n",
        "plt.ylabel('Frequency')\n",
        "plt.show()\n",
        "\n",
        "# 88% of victims are male\n",
        "\n",
        "sex = ['M', 'F']\n",
        "sa = sa[sa['Sex'].isin(sex)]\n",
        "\n",
        "male_victims = sa['Sex'].value_counts(normalize = True)['M']\n",
        "print(f\"Proportion of male victims: {male_victims:.2f}\")\n",
        "\n",
        "# 74% of attacks are unprovoked\n",
        "\n",
        "types = ['Unprovoked', 'Provoked']\n",
        "sa = sa[sa['Type'].isin(types)]\n",
        "\n",
        "un_att = sa['Type'].value_counts(normalize = True)['Unprovoked']\n",
        "print(f\"Proportion of unprovoked attacks: {un_att:.2f}\")\n",
        "\n",
        "# 23% of attacks are fatal\n",
        "\n",
        "fatalities = ['Y', 'N']\n",
        "sa = sa[sa['Fatal Y/N'].isin(fatalities)]\n",
        "\n",
        "fatalities = sa['Fatal Y/N'].value_counts(normalize = True)['Y']\n",
        "print(f\"Proportion of fatal attacks: {fatalities:.2f}\")\n",
        "\n",
        "# Unprovoked attacks are more likely to happen to females\n",
        "\n",
        "unprovoked_by_sex = sa[sa['Type'] == 'Unprovoked'].groupby('Sex').size() / sa.groupby('Sex').size()\n",
        "print(\"Proportion of unprovoked attacks by sex:\")\n",
        "print(unprovoked_by_sex)\n",
        "\n",
        "# Unprovoked attacks are more fatal\n",
        "\n",
        "fatal_by_type = sa.groupby('Type')['Fatal Y/N'].value_counts(normalize=True).unstack()\n",
        "print(\"Fatality rate based on attack type:\")\n",
        "print(fatal_by_type)\n",
        "\n",
        "# Shark attacks involving males are more likely to be fatal\n",
        "\n",
        "fatal_by_sex = sa.groupby('Sex')['Fatal Y/N'].value_counts(normalize=True).unstack()\n",
        "print(\"Fatality rate based on sex:\")\n",
        "print(fatal_by_sex)\n",
        "\n",
        "# I like sharks, you're more likely to be bitten by a dog\n",
        "\n",
        "# 10% of attacks seem to be caused by Great White Sharks\n",
        "\n",
        "sa.columns = sa.columns.str.strip()\n",
        "\n",
        "sa['Species'] = sa['Species'].fillna('')\n",
        "sa['Species'] = sa['Species'].str.split()\n",
        "\n",
        "sa['Species'] = sa['Species'].apply(lambda x: ['GWS' if word.lower() in ['white', 'great'] else word for word in x])\n",
        "\n",
        "white_sharks = sa['Species'].apply(lambda x: 'GWS' in x).mean()\n",
        "\n",
        "print(f\"Proportion of attacks by Great White Sharks: {white_sharks:.2f}\")\n"
      ],
      "metadata": {
        "id": "p6UVXZGp9_Sf",
        "colab": {
          "base_uri": "https://localhost:8080/",
          "height": 1000
        },
        "outputId": "cb8670f4-4efd-4412-d6bc-a37913114e86"
      },
      "id": "p6UVXZGp9_Sf",
      "execution_count": 30,
      "outputs": [
        {
          "output_type": "display_data",
          "data": {
            "text/plain": [
              "<Figure size 640x480 with 1 Axes>"
            ],
            "image/png": "[encoded data removed]"
          },
          "metadata": {}
        },
        {
          "output_type": "display_data",
          "data": {
            "text/plain": [
              "<Figure size 640x480 with 1 Axes>"
            ],
            "image/png": "[encoded data removed]"
          },
          "metadata": {}
        },
        {
          "output_type": "stream",
          "name": "stdout",
          "text": [
            "Proportion of male victims: 0.88\n",
            "Proportion of unprovoked attacks: 0.90\n",
            "Proportion of fatal attacks: 0.22\n",
            "Proportion of unprovoked attacks by sex:\n",
            "Sex\n",
            "F    0.955072\n",
            "M    0.888240\n",
            "dtype: float64\n",
            "Fatality rate based on attack type:\n",
            "Fatal Y/N          N         Y\n",
            "Type                          \n",
            "Provoked    0.968254  0.031746\n",
            "Unprovoked  0.756048  0.243952\n",
            "Fatality rate based on sex:\n",
            "Fatal Y/N         N         Y\n",
            "Sex                          \n",
            "F          0.836232  0.163768\n",
            "M          0.769600  0.230400\n",
            "Proportion of attacks by Great White Sharks: 0.10\n"
          ]
        }
      ]
    },
    {
      "cell_type": "code",
      "source": [
        "sa.columns"
      ],
      "metadata": {
        "colab": {
          "base_uri": "https://localhost:8080/"
        },
        "id": "mKcPMt3UwHqi",
        "outputId": "ddd606d4-4799-479f-b72a-1fc26896cc0d"
      },
      "id": "mKcPMt3UwHqi",
      "execution_count": 23,
      "outputs": [
        {
          "output_type": "execute_result",
          "data": {
            "text/plain": [
              "Index(['Date', 'Year', 'Type', 'Country', 'State', 'Location', 'Activity',\n",
              "       'Name', 'Sex', 'Age', 'Injury', 'Fatal Y/N', 'Time', 'Species ',\n",
              "       'Source', 'pdf', 'href formula', 'href', 'Case Number', 'Case Number.1',\n",
              "       'original order', 'Unnamed: 21', 'Unnamed: 22'],\n",
              "      dtype='object')"
            ]
          },
          "metadata": {},
          "execution_count": 23
        }
      ]
    },
    {
      "cell_type": "markdown",
      "id": "5735a4d4-8be8-433a-a351-70eb8002e632",
      "metadata": {
        "id": "5735a4d4-8be8-433a-a351-70eb8002e632"
      },
      "source": [
        "**Q3.** Open the \"tidy_data.pdf\" document in the repo, which is a paper called Tidy Data by Hadley Wickham.\n",
        "\n",
        "  1. Read the abstract. What is this paper about?\n",
        "  2. Read the introduction. What is the \"tidy data standard\" intended to accomplish?\n",
        "  3. Read the intro to section 2. What does this sentence mean: \"Like families, tidy datasets are all alike but every messy dataset is messy in its own way.\" What does this sentence mean: \"For a given dataset, it’s usually easy to figure out what are observations and what are variables, but it is surprisingly difficult to precisely define variables and observations in general.\"\n",
        "  4. Read Section 2.2. How does Wickham define values, variables, and observations?\n",
        "  5. How is \"Tidy Data\" defined in section 2.3?\n",
        "  6. Read the intro to Section 3 and Section 3.1. What are the 5 most common problems with messy datasets? Why are the data in Table 4 messy? What is \"melting\" a dataset?\n",
        "  7. Why, specifically, is table 11 messy but table 12 tidy and \"molten\"?\n",
        "  8. Read Section 6. What is the \"chicken-and-egg\" problem with focusing on tidy data? What does Wickham hope happens in the future with further work on the subject of data wrangling?"
      ]
    },
    {
      "cell_type": "markdown",
      "source": [
        "# Answers:\n",
        "1. The paper is about how to clean messy datasets.\n",
        "2. Intended to facilitate initial data exploration and analysis.\n",
        "3. The first sentence means that each person who creates a dataset has a different way of causing \"issues\" for data scientists. For example, the way that NAs are represented can vary wildly. The second sentence refers to difficulties in verbalize what each instance of a value for a particular variable means.\n",
        "4. Values are are what the dataset it comprised of, variables contain all values the measure the same attribute, and observations contain all values measured with the same unit across attributes.\n",
        "5. Tidy data has a standard structure that makes it easy to extrat variables.\n",
        "6. Problems with messy data include column headers, multiple variables in one column, variables stored in rows and columns, multiple units are stored in the same table, and single observational units are stored in different tables. Table 4 is messy because each column does not represent a variable nor does a row represent an observation, melting means swapping the rows and columns.\n",
        "7. Table 11 is messy because each column is a possible day in a month, whereas table 12 has been tidied so that there is a column variable date which includes year, month, and day.\n",
        "8. The \"chicken-and-egg\" problem is caused by the idea that tidy data is only as useful as the tools that work with it. Wickham hopes that better tools and data storage options will be developed in the future."
      ],
      "metadata": {
        "id": "rVqlykoVD_Y9"
      },
      "id": "rVqlykoVD_Y9"
    },
    {
      "cell_type": "markdown",
      "id": "649494cd-cfd6-4f80-992a-9994fc19e1d5",
      "metadata": {
        "id": "649494cd-cfd6-4f80-992a-9994fc19e1d5"
      },
      "source": [
        "**Q4.** Many important datasets contain a race variable, typically limited to a handful of values often including Black, White, Asian, Latino, and Indigenous. This question looks at data gathering efforts on this variable by the U.S. Federal government.\n",
        "\n",
        "1. How did the most recent US Census gather data on race?\n",
        "2. Why do we gather these data? What role do these kinds of data play in politics and society? Why does data quality matter?\n",
        "3. Please provide a constructive criticism of how the Census was conducted: What was done well? What do you think was missing? How should future large scale surveys be adjusted to best reflect the diversity of the population? Could some of the Census' good practices be adopted more widely to gather richer and more useful data?\n",
        "4. How did the Census gather data on sex and gender? Please provide a similar constructive criticism of their practices.\n",
        "5. When it comes to cleaning data, what concerns do you have about protected characteristics like sex, gender, sexual identity, or race? What challenges can you imagine arising when there are missing values? What good or bad practices might people adopt, and why?\n",
        "6. Suppose someone invented an algorithm to impute values for protected characteristics like race, gender, sex, or sexuality. What kinds of concerns would you have?"
      ]
    }
  ],
  "metadata": {
    "colab": {
      "provenance": []
    },
    "kernelspec": {
      "display_name": "Python 3 (ipykernel)",
      "language": "python",
      "name": "python3"
    },
    "language_info": {
      "codemirror_mode": {
        "name": "ipython",
        "version": 3
      },
      "file_extension": ".py",
      "mimetype": "text/x-python",
      "name": "python",
      "nbconvert_exporter": "python",
      "pygments_lexer": "ipython3",
      "version": "3.10.4"
    }
  },
  "nbformat": 4,
  "nbformat_minor": 5
}